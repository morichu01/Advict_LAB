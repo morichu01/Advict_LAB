{
 "cells": [
  {
   "cell_type": "markdown",
   "metadata": {},
   "source": [
    "# Pythonスクリプトをjupyter notebook上で実行する"
   ]
  },
  {
   "cell_type": "markdown",
   "metadata": {},
   "source": [
    "## このセッションで学べること\n",
    "- Pythonスクリプトをjupyter notebook上で書くことができる  \n",
    "- Pythonスクリプトをjupyter notebook上で実行することができる  \n",
    "- 手書き文字のデータセットが理解できる（画像データの構成が理解できる）\n",
    "- 手書き文字のデータセットを使って、SVMの他クラス分類の手法が理解できる  \n",
    "　https://ja.wikipedia.org/wiki/サポートベクターマシン  \n",
    "　https://qiita.com/pesuchin/items/c55f40b69aa1aec2bd19  \n",
    "- 関数を表現できるようになる  \n",
    "- 交差検証の概念が理解できる  \n",
    "　https://bi.biopapyrus.jp/ai/machine-learning/k-fold-cross-validation.html  \n",
    "　http://aiweeklynews.com/archives/50219779.html  \n",
    " ******"
   ]
  },
  {
   "cell_type": "code",
   "execution_count": 16,
   "metadata": {},
   "outputs": [
    {
     "name": "stdout",
     "output_type": "stream",
     "text": [
      "__name__ == __main__\n",
      "データセットの点数: 1797\n",
      "各データの次元数: 64\n"
     ]
    },
    {
     "name": "stderr",
     "output_type": "stream",
     "text": [
      "digits_svm.py:53: DeprecationWarning: This function is deprecated. Please call randint(0, 1797 + 1) instead\n",
      "  p = np.random.random_integers(0, len(X), 25)\n"
     ]
    },
    {
     "data": {
      "image/png": "[encoded data removed]",
      "text/plain": [
       "<matplotlib.figure.Figure at 0x1a121c28d0>"
      ]
     },
     "metadata": {},
     "output_type": "display_data"
    },
    {
     "name": "stdout",
     "output_type": "stream",
     "text": [
      "正答率: 98.27%\n"
     ]
    }
   ],
   "source": [
    "#Pythonスクリプトを実行する\n",
    "%run -i digits_svm.py\n",
    "#%matplotlib inline"
   ]
  },
  {
   "cell_type": "markdown",
   "metadata": {},
   "source": [
    "### 演習問題\n",
    "- スクリプトを読み解いてみよう！\n",
    "- パラメータをいろいろと変えてみて、正答率の変化を見てみよう！\n",
    "- 新規の手書き文字データ（配列）を作って、分類してみよう！"
   ]
  },
  {
   "cell_type": "code",
   "execution_count": null,
   "metadata": {},
   "outputs": [],
   "source": []
  },
  {
   "cell_type": "markdown",
   "metadata": {},
   "source": [
    "### おまけ"
   ]
  },
  {
   "cell_type": "code",
   "execution_count": 9,
   "metadata": {},
   "outputs": [
    {
     "name": "stdout",
     "output_type": "stream",
     "text": [
      "total 640\r\n",
      "-rw-r--r--   1 moritadashi  staff   14278  4 17 20:47 Digits_Script_Run.ipynb\r\n",
      "-rw-r--r--   1 moritadashi  staff       0  4 17 20:28 untitled.txt\r\n",
      "-rw-r--r--@  1 moritadashi  staff    2293  4 17 20:05 digits_svm.py\r\n",
      "-rw-r--r--   1 moritadashi  staff   39405  4 17 19:49 MNIST_nuralnetwork.ipynb\r\n",
      "-rw-r--r--   1 moritadashi  staff    1583  4 17 16:47 myenv.yaml\r\n",
      "drwxr-xr-x  10 moritadashi  staff     320  4 17 16:22 \u001b[34miris\u001b[m\u001b[m\r\n",
      "drwxr-xr-x   4 moritadashi  staff     128  4 17 16:12 \u001b[34mPython-BootCamp\u001b[m\u001b[m\r\n",
      "-rw-r--r--   1 moritadashi  staff  258697  4 13 18:22 boston.ipynb\r\n"
     ]
    }
   ],
   "source": [
    "# !の後にshell comandが実行できる %でも代用できるっぽい\n",
    "!ls -lt"
   ]
  },
  {
   "cell_type": "code",
   "execution_count": 18,
   "metadata": {},
   "outputs": [],
   "source": [
    "# reference of magic comand\n",
    "%quickref"
   ]
  },
  {
   "cell_type": "code",
   "execution_count": null,
   "metadata": {},
   "outputs": [],
   "source": []
  },
  {
   "cell_type": "code",
   "execution_count": null,
   "metadata": {},
   "outputs": [],
   "source": []
  }
 ],
 "metadata": {
  "kernelspec": {
   "display_name": "Python 3",
   "language": "python",
   "name": "python3"
  },
  "language_info": {
   "codemirror_mode": {
    "name": "ipython",
    "version": 3
   },
   "file_extension": ".py",
   "mimetype": "text/x-python",
   "name": "python",
   "nbconvert_exporter": "python",
   "pygments_lexer": "ipython3",
   "version": "3.6.4"
  }
 },
 "nbformat": 4,
 "nbformat_minor": 2
}
